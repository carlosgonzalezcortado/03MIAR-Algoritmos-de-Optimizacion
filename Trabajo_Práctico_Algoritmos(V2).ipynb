{
  "nbformat": 4,
  "nbformat_minor": 0,
  "metadata": {
    "colab": {
      "provenance": [],
      "toc_visible": true,
      "include_colab_link": true
    },
    "kernelspec": {
      "name": "python3",
      "display_name": "Python 3"
    }
  },
  "cells": [
    {
      "cell_type": "markdown",
      "metadata": {
        "id": "view-in-github",
        "colab_type": "text"
      },
      "source": [
        "<a href=\"https://colab.research.google.com/github/carlosgonzalezcortado/03MIAR-Algoritmos-de-Optimizacion/blob/main/Trabajo_Pr%C3%A1ctico_Algoritmos(V2).ipynb\" target=\"_parent\"><img src=\"https://colab.research.google.com/assets/colab-badge.svg\" alt=\"Open In Colab\"/></a>"
      ]
    },
    {
      "cell_type": "markdown",
      "metadata": {
        "id": "hVbXYX-RfPWh"
      },
      "source": [
        "# Algoritmos de optimización - Trabajo Práctico<br>\n",
        "Nombre y Apellidos: Carlos González Cortado  <br>\n",
        "Url: https://github.com/carlosgonzalezcortado/03MIAR-Algoritmos-de-Optimizacion/blob/main/Trabajo_Pr%C3%A1ctico_Algoritmos(V2).ipynb<br>\n",
        "Google Colab: https://colab.research.google.com/drive/1x3tK03TaUYUVgAMKSCPrKZwW4NTcBqPO?usp=sharing <br>\n",
        "Problema:\n",
        ">1. Sesiones de doblaje <br>\n",
        "\n",
        "Descripción del problema:\n",
        "\n",
        "Se precisa coordinar el doblaje de una película. Los actores del doblaje deben coincidir en las\n",
        "tomas en las que sus personajes aparecen juntos en las diferentes tomas. Los actores de\n",
        "doblaje cobran todos la misma cantidad por cada día que deben desplazarse hasta el estudio de\n",
        "grabación independientemente del número de tomas que se graben. No es posible grabar más\n",
        "de 6 tomas por día. El objetivo es planificar las sesiones por día de manera que el gasto por los\n",
        "servicios de los actores de doblaje sea el menor posible.<br>\n",
        "\n",
        "Los datos son:<br>\n",
        "\n",
        "Número de actores: 10<br>\n",
        "Número de tomas : 30<br>\n",
        "Actores/Tomas : https://bit.ly/36D8IuK\n",
        "- 1 indica que el actor participa en la toma\n",
        "- 0 en caso contrario\n",
        "\n",
        "....\n",
        "\n",
        "\n",
        "\n",
        "\n",
        "\n",
        "\n",
        "\n",
        "                                        "
      ]
    },
    {
      "cell_type": "markdown",
      "source": [
        "#Modelo\n",
        "- ¿Como represento el espacio de soluciones?\n",
        "- ¿Cual es la función objetivo?\n",
        "- ¿Como implemento las restricciones?"
      ],
      "metadata": {
        "id": "Sbo9IqQtpaHZ"
      }
    },
    {
      "cell_type": "markdown",
      "source": [],
      "metadata": {
        "id": "67p_vszBposu"
      }
    },
    {
      "cell_type": "code",
      "metadata": {
        "id": "AiskKkzZfy4e"
      },
      "source": [
        "#Respuesta"
      ],
      "execution_count": null,
      "outputs": []
    },
    {
      "cell_type": "markdown",
      "source": [
        "¿Como represento el espacio de soluciones?\n",
        "\n",
        "Cada solución es un arreglo de listas, donde cada lista contiene las tomas que se realizarán en un día específico. Por ejemplo, [[11, 24, 14, 25, 4, 16], [20, 24, 9, 18, 12, 1], ...] representa una solución en la que las tomas 11, 24, 14, 25, 4 y 16 se realizan en el primer día, las tomas 20, 24, 9, 18, 12 y 1 se realizan en el segundo día, y así sucesivamente. Se incluye también el valor del gasto total obtenido para la mejor solución encontrada.\n",
        "\n",
        "¿Cual es la función objetivo?\n",
        "\n",
        "La función objetivo es minimizar el costo total de contratar a los actores para el doblaje. Dado que cada actor cobra la misma cantidad por día, independientemente del número de tomas en las que participa, la función objetivo puede ser la suma del número de actores que trabajan cada día en la solución propuesta.\n",
        "\n",
        "¿Como implemento las restricciones?\n",
        "\n",
        " Para la restricción en la cantidad máxima de tomas diarias se debe asegurar que no se asignen más de 6 tomas en un día. Esto se puede hacer limitando el tamaño de las listas en la representación de la solución.\n",
        "\n",
        " Para la restricción de coincidencia de actores, se puede implementar al asegurar que si una toma es asignada a un día, todas las otras tomas que involucran a los mismos actores también se asignen a ese día."
      ],
      "metadata": {
        "id": "Z84wx0Q_7gLH"
      }
    },
    {
      "cell_type": "markdown",
      "source": [
        "#Análisis\n",
        "- ¿Que complejidad tiene el problema?. Orden de complejidad y Contabilizar el espacio de soluciones"
      ],
      "metadata": {
        "id": "HZz52wOppp-U"
      }
    },
    {
      "cell_type": "code",
      "source": [
        "#Respuesta"
      ],
      "metadata": {
        "id": "CZ-5BmpspttV"
      },
      "execution_count": null,
      "outputs": []
    },
    {
      "cell_type": "markdown",
      "source": [
        "Este problema es una variante del problema de programación de horarios, que es un problema NP-completo. Su complejidad, si n es el número total de tomas, llega a ser de tipo factorial: O(n!).\n",
        "\n",
        "El espacio de soluciones es el conjunto de todas las posibles asignaciones de tomas por días. Si hay n tomas y cada toma puede ser asignada a uno de los d días, entonces hay d^n posibles asignaciones. Hay que tener en cuenta que esta sería la cota superior del espacio de soluciones en caso de que no existiesen restricciones."
      ],
      "metadata": {
        "id": "y8ls0XEK9D2x"
      }
    },
    {
      "cell_type": "markdown",
      "source": [
        "#Diseño\n",
        "- ¿Que técnica utilizo? ¿Por qué?"
      ],
      "metadata": {
        "id": "ixEJUwH_pv7M"
      }
    },
    {
      "cell_type": "code",
      "source": [
        "#Respuesta"
      ],
      "metadata": {
        "id": "ZdKPjB9gp2BA"
      },
      "execution_count": null,
      "outputs": []
    },
    {
      "cell_type": "markdown",
      "source": [
        "En este caso se ha decido probar 3 implementaciones distintas: un algoritmo voraz y un algoritmo genético sin usar liberías exteneras. Y otro algoritmo genético usando la libería DEAP (Distributed Evolutionary Algorithms in Python).\n",
        "\n",
        "La elección del algoritmo voraz se debe a que es una técnica relativamente sencilla de implementar y muestra una gran eficacia.\n",
        "\n",
        "Por otro lado, los algoritmos genéticos son capaces de encontrar soluciones óptimas o casi óptimas para problemas de optimización NP-Completos como es este caso.\n",
        "\n",
        "El uso de una libería externa como DEAP se ha hecho para comprobar como de diferente es la eficiencia de una implementación óptima a una implementación más básica del algoritmo. La ventaja de usar DEAP es que proporciona una implementación eficiente y flexible de los algoritmos genéticos, lo que permite personalizar el algoritmo para adaptarlo a las características específicas del problema."
      ],
      "metadata": {
        "id": "IhtPGtiAA_fK"
      }
    },
    {
      "cell_type": "code",
      "source": [
        "import numpy as np\n",
        "\n",
        "# Datos del problema\n",
        "num_actores = 10\n",
        "num_tomas = 30\n",
        "actores_tomas = np.array([\n",
        "    [1, 1, 1, 1, 1, 0, 0, 0, 0, 0],\n",
        "    [0, 0, 1, 1, 1, 0, 0, 0, 0, 0],\n",
        "    [0, 1, 0, 0, 1, 0, 1, 0, 0, 0],\n",
        "    [1, 1, 0, 0, 0, 0, 1, 1, 0, 0],\n",
        "    [0, 1, 0, 1, 0, 0, 0, 1, 0, 0],\n",
        "    [1, 1, 0, 1, 1, 0, 0, 0, 0, 0],\n",
        "    [1, 1, 0, 1, 1, 0, 0, 0, 0, 0],\n",
        "    [1, 1, 0, 0, 0, 1, 0, 0, 0, 0],\n",
        "    [1, 1, 0, 1, 0, 0, 0, 0, 0, 0],\n",
        "    [1, 1, 0, 0, 0, 1, 0, 0, 1, 0],\n",
        "    [1, 1, 1, 0, 1, 0, 0, 1, 0, 0],\n",
        "    [1, 1, 1, 1, 0, 1, 0, 0, 0, 0],\n",
        "    [1, 0, 0, 1, 1, 0, 0, 0, 0, 0],\n",
        "    [1, 0, 1, 0, 0, 1, 0, 0, 0, 0],\n",
        "    [1, 1, 0, 0, 0, 0, 1, 0, 0, 0],\n",
        "    [0, 0, 0, 1, 0, 0, 0, 0, 0, 1],\n",
        "    [1, 0, 1, 0, 0, 0, 0, 0, 0, 0],\n",
        "    [0, 0, 1, 0, 0, 1, 0, 0, 0, 0],\n",
        "    [1, 0, 1, 0, 0, 0, 0, 0, 0, 0],\n",
        "    [1, 0, 1, 1, 1, 0, 0, 0, 0, 0],\n",
        "    [0, 0, 0, 0, 0, 1, 0, 1, 0, 0],\n",
        "    [1, 1, 1, 1, 0, 0, 0, 0, 0, 0],\n",
        "    [1, 0, 1, 0, 0, 0, 0, 0, 0, 0],\n",
        "    [0, 0, 1, 0, 0, 1, 0, 0, 0, 0],\n",
        "    [1, 1, 0, 1, 0, 0, 0, 0, 0, 1],\n",
        "    [1, 0, 1, 0, 1, 0, 0, 0, 1, 0],\n",
        "    [0, 0, 0, 1, 1, 0, 0, 0, 0, 0],\n",
        "    [1, 0, 0, 1, 0, 0, 0, 0, 0, 0],\n",
        "    [1, 0, 0, 0, 1, 1, 0, 0, 0, 0],\n",
        "    [1, 0, 0, 1, 0, 0, 0, 0, 0, 0]\n",
        "])\n",
        "\n",
        "# Inicialización\n",
        "tomas_asignadas = np.zeros(num_tomas, dtype=bool)\n",
        "dias = []\n",
        "\n",
        "# Algoritmo voraz\n",
        "while not all(tomas_asignadas):\n",
        "    tomas_dia = []\n",
        "    actores_dia = np.zeros(num_actores, dtype=bool)\n",
        "    for _ in range(6):  # Máximo de 6 tomas por día\n",
        "        # Selecciona la toma que maximiza la cantidad de actores ya presentes\n",
        "        score_tomas = np.zeros(num_tomas)\n",
        "        for idx_toma, toma in enumerate(actores_tomas):\n",
        "            if not tomas_asignadas[idx_toma]:\n",
        "                score_tomas[idx_toma] = np.sum(toma & actores_dia)\n",
        "        if np.max(score_tomas) == 0:  # Si ninguna toma tiene actores ya presentes\n",
        "            # Selecciona la toma con la mayor cantidad de actores no asignados\n",
        "            score_tomas = np.sum(actores_tomas[~tomas_asignadas], axis=1)\n",
        "        if len(score_tomas) == 0:  # Si no hay más tomas para asignar, salir del bucle\n",
        "            break\n",
        "        idx_toma = np.argmax(score_tomas)\n",
        "        tomas_dia.append(idx_toma)\n",
        "        actores_dia |= actores_tomas[idx_toma].astype(bool)  # Convierte a booleano antes de la operación\n",
        "        tomas_asignadas[idx_toma] = True\n",
        "    dias.append(tomas_dia)\n",
        "\n",
        "# Resultados\n",
        "gasto_total = len(dias) * num_actores  # Cada actor cobra por día\n",
        "print(f\"Distribución de las tomas: {dias}\")\n",
        "print(f\"Gasto total: {gasto_total}\")"
      ],
      "metadata": {
        "colab": {
          "base_uri": "https://localhost:8080/"
        },
        "id": "ua6FkL3wam51",
        "outputId": "3e44448e-46e2-479a-81fe-caaa294b1cb0"
      },
      "execution_count": null,
      "outputs": [
        {
          "output_type": "stream",
          "name": "stdout",
          "text": [
            "Distribución de las tomas: [[0, 5, 6, 10, 11, 19], [2, 3, 14, 4, 8, 12], [2, 1, 21, 24, 25, 9], [0, 7, 13, 28, 16, 17], [0, 18, 22, 26, 27, 29], [0, 15, 23, 20]]\n",
            "Gasto total: 60\n"
          ]
        }
      ]
    },
    {
      "cell_type": "markdown",
      "source": [
        "Vemos que el algoritmo voraz es capaz de resolver el problema con un gasto total igual a 60 euros. En el código se puede ver también las distribución de tomas que el algoritmo ha considerado mejor. La implementación del algoritmo es simple y no requiere de demasiado tiempo de ejecución para llegar a una solución."
      ],
      "metadata": {
        "id": "LTFOXQp-k4hL"
      }
    },
    {
      "cell_type": "code",
      "source": [
        "import numpy as np\n",
        "import random\n",
        "\n",
        "# Datos del problema\n",
        "num_actores = 10\n",
        "num_tomas = 30\n",
        "max_tomas_dia = 6\n",
        "actores_tomas = np.array([\n",
        "    [1, 1, 1, 1, 1, 0, 0, 0, 0, 0],\n",
        "    [0, 0, 1, 1, 1, 0, 0, 0, 0, 0],\n",
        "    [0, 1, 0, 0, 1, 0, 1, 0, 0, 0],\n",
        "    [1, 1, 0, 0, 0, 0, 1, 1, 0, 0],\n",
        "    [0, 1, 0, 1, 0, 0, 0, 1, 0, 0],\n",
        "    [1, 1, 0, 1, 1, 0, 0, 0, 0, 0],\n",
        "    [1, 1, 0, 1, 1, 0, 0, 0, 0, 0],\n",
        "    [1, 1, 0, 0, 0, 1, 0, 0, 0, 0],\n",
        "    [1, 1, 0, 1, 0, 0, 0, 0, 0, 0],\n",
        "    [1, 1, 0, 0, 0, 1, 0, 0, 1, 0],\n",
        "    [1, 1, 1, 0, 1, 0, 0, 1, 0, 0],\n",
        "    [1, 1, 1, 1, 0, 1, 0, 0, 0, 0],\n",
        "    [1, 0, 0, 1, 1, 0, 0, 0, 0, 0],\n",
        "    [1, 0, 1, 0, 0, 1, 0, 0, 0, 0],\n",
        "    [1, 1, 0, 0, 0, 0, 1, 0, 0, 0],\n",
        "    [0, 0, 0, 1, 0, 0, 0, 0, 0, 1],\n",
        "    [1, 0, 1, 0, 0, 0, 0, 0, 0, 0],\n",
        "    [0, 0, 1, 0, 0, 1, 0, 0, 0, 0],\n",
        "    [1, 0, 1, 0, 0, 0, 0, 0, 0, 0],\n",
        "    [1, 0, 1, 1, 1, 0, 0, 0, 0, 0],\n",
        "    [0, 0, 0, 0, 0, 1, 0, 1, 0, 0],\n",
        "    [1, 1, 1, 1, 0, 0, 0, 0, 0, 0],\n",
        "    [1, 0, 1, 0, 0, 0, 0, 0, 0, 0],\n",
        "    [0, 0, 1, 0, 0, 1, 0, 0, 0, 0],\n",
        "    [1, 1, 0, 1, 0, 0, 0, 0, 0, 1],\n",
        "    [1, 0, 1, 0, 1, 0, 0, 0, 1, 0],\n",
        "    [0, 0, 0, 1, 1, 0, 0, 0, 0, 0],\n",
        "    [1, 0, 0, 1, 0, 0, 0, 0, 0, 0],\n",
        "    [1, 0, 0, 0, 1, 1, 0, 0, 0, 0],\n",
        "    [1, 0, 0, 1, 0, 0, 0, 0, 0, 0]\n",
        "])\n",
        "\n",
        "# Parámetros del algoritmo genético\n",
        "num_generaciones = 1000\n",
        "tam_poblacion = 100\n",
        "tasa_mutacion = 0.01\n",
        "\n",
        "# Función de aptitud\n",
        "def calcular_costo(solucion):\n",
        "    costo = 0\n",
        "    for dia in solucion:\n",
        "        actores_dia = set()\n",
        "        for toma in dia:\n",
        "            actores_dia.update(np.where(actores_tomas[toma] == 1)[0])\n",
        "        costo += len(actores_dia)\n",
        "    return costo\n",
        "\n",
        "# Genera solución válida\n",
        "def generar_solucion():\n",
        "    tomas = list(range(num_tomas))\n",
        "    random.shuffle(tomas)\n",
        "    return [tomas[i:i+max_tomas_dia] for i in range(0, len(tomas), max_tomas_dia)]\n",
        "\n",
        "# Genera población inicial\n",
        "poblacion = [generar_solucion() for _ in range(tam_poblacion)]\n",
        "\n",
        "for _ in range(num_generaciones):\n",
        "    # Calcula la aptitud de la población\n",
        "    aptitudes = [calcular_costo(individuo) for individuo in poblacion]\n",
        "\n",
        "    # Selecciona los padres para cruce\n",
        "    padres_idx = np.random.choice(range(tam_poblacion), size=2, p=aptitudes/np.sum(aptitudes))\n",
        "    padre1, padre2 = poblacion[padres_idx[0]], poblacion[padres_idx[1]]\n",
        "\n",
        "    # Realiza cruce\n",
        "    punto_cruce = np.random.randint(0, len(padre1))\n",
        "    hijo1 = padre1[:punto_cruce] + padre2[punto_cruce:]\n",
        "    hijo2 = padre2[:punto_cruce] + padre1[punto_cruce:]\n",
        "\n",
        "    # Realiza mutación\n",
        "    for hijo in [hijo1, hijo2]:\n",
        "        if random.random() < tasa_mutacion:\n",
        "            idx_mutacion = np.random.randint(0, len(hijo))\n",
        "            toma_mutacion = np.random.randint(0, num_tomas)\n",
        "            if toma_mutacion not in hijo[idx_mutacion] and len(hijo[idx_mutacion]) < max_tomas_dia:\n",
        "                hijo[idx_mutacion].append(toma_mutacion)\n",
        "\n",
        "    # Reemplaza dos individuos de la población por los nuevos hijos\n",
        "    poblacion = sorted(poblacion, key=calcular_costo)\n",
        "    poblacion[0], poblacion[1] = hijo1, hijo2\n",
        "\n",
        "# Resultados\n",
        "mejor_solucion = min(poblacion, key=calcular_costo)\n",
        "print(f\"Mejor solución: {mejor_solucion}\")\n",
        "print(f\"Gasto total: {calcular_costo(mejor_solucion)}\")"
      ],
      "metadata": {
        "colab": {
          "base_uri": "https://localhost:8080/"
        },
        "id": "uQhVeHYxyO34",
        "outputId": "1b41fefb-55bd-41b6-b7f7-2dea3758c1cd"
      },
      "execution_count": null,
      "outputs": [
        {
          "output_type": "stream",
          "name": "stdout",
          "text": [
            "Mejor solución: [[9, 1, 3, 2, 24, 11], [0, 13, 16, 24, 9, 14], [9, 23, 19, 3, 1, 22], [5, 24, 17, 15, 2, 4], [21, 3, 9, 29, 24, 10]]\n",
            "Gasto total: 47\n"
          ]
        }
      ]
    },
    {
      "cell_type": "markdown",
      "source": [
        "Vemos como esta implementación de un algoritmo genético ha sido capaz de obtener un gasto total inferior al obtenido mediante el algoritmo voraz (60). En este caso la implementación ha sido más complicada y el tiempo de ejecución es más prolongado que el del algoritmo voraz, aún así la mejora del gasto es considerable.\n",
        "\n",
        "Una conclusión que se puede extraer es que en ambos casos las soluciones obtenidas son dependentes del la calidad del código implementado, es decir, la bondad de los algoritmos depende directamente de la calidad del código.\n",
        "\n",
        "Una manera de comprobar esto es mediante el uso de la librería externa DEAP, que como se ha mendiconado a la principio del apartado, proporciona una implementación eficiente y flexible de los algoritmos genéticos, lo que permite personalizar el algoritmo para adaptarlo a las características específicas del problema."
      ],
      "metadata": {
        "id": "6W_NNJ1Plm8l"
      }
    },
    {
      "cell_type": "code",
      "source": [
        "!pip install deap"
      ],
      "metadata": {
        "colab": {
          "base_uri": "https://localhost:8080/"
        },
        "id": "140L4tuwSVpL",
        "outputId": "f0a275cc-6e29-41f2-fc91-f12e706c51f8"
      },
      "execution_count": null,
      "outputs": [
        {
          "output_type": "stream",
          "name": "stdout",
          "text": [
            "Collecting deap\n",
            "  Downloading deap-1.4.1-cp310-cp310-manylinux_2_5_x86_64.manylinux1_x86_64.manylinux_2_17_x86_64.manylinux2014_x86_64.whl (135 kB)\n",
            "\u001b[?25l     \u001b[90m━━━━━━━━━━━━━━━━━━━━━━━━━━━━━━━━━━━━━━━━\u001b[0m \u001b[32m0.0/135.4 kB\u001b[0m \u001b[31m?\u001b[0m eta \u001b[36m-:--:--\u001b[0m\r\u001b[2K     \u001b[91m━━━━━━━━━━━━━━━━━━\u001b[0m\u001b[90m╺\u001b[0m\u001b[90m━━━━━━━━━━━━━━━━━━━━━\u001b[0m \u001b[32m61.4/135.4 kB\u001b[0m \u001b[31m1.7 MB/s\u001b[0m eta \u001b[36m0:00:01\u001b[0m\r\u001b[2K     \u001b[90m━━━━━━━━━━━━━━━━━━━━━━━━━━━━━━━━━━━━━━━━\u001b[0m \u001b[32m135.4/135.4 kB\u001b[0m \u001b[31m2.5 MB/s\u001b[0m eta \u001b[36m0:00:00\u001b[0m\n",
            "\u001b[?25hRequirement already satisfied: numpy in /usr/local/lib/python3.10/dist-packages (from deap) (1.25.2)\n",
            "Installing collected packages: deap\n",
            "Successfully installed deap-1.4.1\n"
          ]
        }
      ]
    },
    {
      "cell_type": "code",
      "source": [
        "import numpy as np\n",
        "import random\n",
        "from deap import creator, base, tools, algorithms\n",
        "\n",
        "# Datos del problema\n",
        "num_actores = 10\n",
        "num_tomas = 30\n",
        "actores_tomas = np.array([\n",
        "    [1, 1, 1, 1, 1, 0, 0, 0, 0, 0],\n",
        "    [0, 0, 1, 1, 1, 0, 0, 0, 0, 0],\n",
        "    [0, 1, 0, 0, 1, 0, 1, 0, 0, 0],\n",
        "    [1, 1, 0, 0, 0, 0, 1, 1, 0, 0],\n",
        "    [0, 1, 0, 1, 0, 0, 0, 1, 0, 0],\n",
        "    [1, 1, 0, 1, 1, 0, 0, 0, 0, 0],\n",
        "    [1, 1, 0, 1, 1, 0, 0, 0, 0, 0],\n",
        "    [1, 1, 0, 0, 0, 1, 0, 0, 0, 0],\n",
        "    [1, 1, 0, 1, 0, 0, 0, 0, 0, 0],\n",
        "    [1, 1, 0, 0, 0, 1, 0, 0, 1, 0],\n",
        "    [1, 1, 1, 0, 1, 0, 0, 1, 0, 0],\n",
        "    [1, 1, 1, 1, 0, 1, 0, 0, 0, 0],\n",
        "    [1, 0, 0, 1, 1, 0, 0, 0, 0, 0],\n",
        "    [1, 0, 1, 0, 0, 1, 0, 0, 0, 0],\n",
        "    [1, 1, 0, 0, 0, 0, 1, 0, 0, 0],\n",
        "    [0, 0, 0, 1, 0, 0, 0, 0, 0, 1],\n",
        "    [1, 0, 1, 0, 0, 0, 0, 0, 0, 0],\n",
        "    [0, 0, 1, 0, 0, 1, 0, 0, 0, 0],\n",
        "    [1, 0, 1, 0, 0, 0, 0, 0, 0, 0],\n",
        "    [1, 0, 1, 1, 1, 0, 0, 0, 0, 0],\n",
        "    [0, 0, 0, 0, 0, 1, 0, 1, 0, 0],\n",
        "    [1, 1, 1, 1, 0, 0, 0, 0, 0, 0],\n",
        "    [1, 0, 1, 0, 0, 0, 0, 0, 0, 0],\n",
        "    [0, 0, 1, 0, 0, 1, 0, 0, 0, 0],\n",
        "    [1, 1, 0, 1, 0, 0, 0, 0, 0, 1],\n",
        "    [1, 0, 1, 0, 1, 0, 0, 0, 1, 0],\n",
        "    [0, 0, 0, 1, 1, 0, 0, 0, 0, 0],\n",
        "    [1, 0, 0, 1, 0, 0, 0, 0, 0, 0],\n",
        "    [1, 0, 0, 0, 1, 1, 0, 0, 0, 0],\n",
        "    [1, 0, 0, 1, 0, 0, 0, 0, 0, 0]\n",
        "])\n",
        "\n",
        "# Creamos los tipos de fitness y individuos\n",
        "creator.create(\"FitnessMin\", base.Fitness, weights=(-1.0,))\n",
        "creator.create(\"Individual\", list, fitness=creator.FitnessMin)\n",
        "\n",
        "toolbox = base.Toolbox()\n",
        "\n",
        "# Inicializamos los individuos\n",
        "toolbox.register(\"indices\", np.random.permutation, num_tomas)\n",
        "toolbox.register(\"individual\", tools.initIterate, creator.Individual, toolbox.indices)\n",
        "toolbox.register(\"population\", tools.initRepeat, list, toolbox.individual)\n",
        "\n",
        "# Función de evaluación\n",
        "def evalCost(individual):\n",
        "    cost = 0\n",
        "    for i in range(0, len(individual), 6):\n",
        "        day = individual[i:i+6]\n",
        "        actors = np.sum(actores_tomas[day], axis=0)\n",
        "        cost += np.sum(actors > 0)\n",
        "    return cost,\n",
        "\n",
        "toolbox.register(\"evaluate\", evalCost)\n",
        "\n",
        "# Incizializamos los peradores genéticos\n",
        "toolbox.register(\"mate\", tools.cxPartialyMatched)\n",
        "toolbox.register(\"mutate\", tools.mutShuffleIndexes, indpb=0.05)\n",
        "toolbox.register(\"select\", tools.selTournament, tournsize=3)\n",
        "\n",
        "# Aplicamos el algoritmo\n",
        "pop = toolbox.population(n=300)\n",
        "hof = tools.HallOfFame(1)\n",
        "stats = tools.Statistics(lambda ind: ind.fitness.values)\n",
        "stats.register(\"Avg\", np.mean)\n",
        "stats.register(\"Std\", np.std)\n",
        "stats.register(\"Min\", np.min)\n",
        "stats.register(\"Max\", np.max)\n",
        "\n",
        "pop, log = algorithms.eaSimple(pop, toolbox, cxpb=0.5, mutpb=0.2, ngen=40,\n",
        "                               stats=stats, halloffame=hof, verbose=True)\n",
        "\n",
        "# Resultados\n",
        "best_individual = tools.selBest(pop, 1)[0]\n",
        "print('Mejor solución: ', [best_individual[i:i+6] for i in range(0, len(best_individual), 6)])\n",
        "print('Gasto total: ', evalCost(best_individual)[0])"
      ],
      "metadata": {
        "colab": {
          "base_uri": "https://localhost:8080/"
        },
        "id": "4p7WnyZLSPrF",
        "outputId": "f7482127-26d5-4426-8ba9-8e748824a5d2"
      },
      "execution_count": null,
      "outputs": [
        {
          "output_type": "stream",
          "name": "stdout",
          "text": [
            "gen\tnevals\tAvg    \tStd    \tMin\tMax\n",
            "0  \t300   \t38.1133\t1.30403\t34 \t41 \n",
            "1  \t162   \t37.4367\t1.16876\t34 \t40 \n",
            "2  \t181   \t37.0233\t1.39145\t34 \t40 \n",
            "3  \t178   \t36.4767\t1.25809\t34 \t40 \n",
            "4  \t162   \t36.17  \t1.34453\t34 \t40 \n",
            "5  \t179   \t36.15  \t1.55161\t33 \t40 \n",
            "6  \t170   \t35.7667\t1.57445\t33 \t41 \n",
            "7  \t173   \t35.5033\t1.60934\t33 \t41 \n",
            "8  \t169   \t35.3   \t1.55242\t33 \t41 \n",
            "9  \t193   \t35.37  \t1.69895\t32 \t40 \n",
            "10 \t180   \t35.2133\t1.70328\t32 \t40 \n",
            "11 \t163   \t34.8667\t1.65395\t32 \t41 \n",
            "12 \t171   \t34.76  \t1.75188\t31 \t41 \n",
            "13 \t183   \t34.5333\t1.68787\t32 \t40 \n",
            "14 \t186   \t34.4367\t1.67112\t31 \t40 \n",
            "15 \t179   \t34.2633\t1.77782\t30 \t40 \n",
            "16 \t194   \t34.0067\t1.89735\t30 \t40 \n",
            "17 \t181   \t33.3533\t1.70347\t30 \t39 \n",
            "18 \t177   \t32.9167\t1.63597\t30 \t39 \n",
            "19 \t180   \t32.6733\t1.57055\t30 \t38 \n",
            "20 \t174   \t32.32  \t1.53545\t30 \t41 \n",
            "21 \t174   \t31.9733\t1.59978\t30 \t38 \n",
            "22 \t187   \t31.45  \t1.34938\t30 \t38 \n",
            "23 \t168   \t30.9667\t1.28539\t30 \t37 \n",
            "24 \t160   \t30.49  \t0.974628\t30 \t35 \n",
            "25 \t186   \t30.3167\t0.97111 \t29 \t37 \n",
            "26 \t181   \t30.2267\t0.86523 \t29 \t36 \n",
            "27 \t190   \t30.3367\t1.07548 \t29 \t36 \n",
            "28 \t166   \t30.17  \t0.980357\t29 \t35 \n",
            "29 \t197   \t29.9733\t1.0096  \t29 \t35 \n",
            "30 \t181   \t29.83  \t1.36666 \t29 \t36 \n",
            "31 \t171   \t29.4433\t1.03929 \t29 \t34 \n",
            "32 \t192   \t29.39  \t1.10056 \t29 \t35 \n",
            "33 \t163   \t29.4833\t1.45936 \t29 \t38 \n",
            "34 \t180   \t29.3467\t1.16038 \t29 \t36 \n",
            "35 \t172   \t29.3333\t1.0562  \t29 \t35 \n",
            "36 \t173   \t29.2733\t0.901086\t29 \t35 \n",
            "37 \t188   \t29.4333\t1.22701 \t29 \t36 \n",
            "38 \t176   \t29.3067\t1.05164 \t29 \t37 \n",
            "39 \t184   \t29.3567\t1.14431 \t29 \t36 \n",
            "40 \t176   \t29.32  \t1.06345 \t29 \t37 \n",
            "Mejor solución:  [[2, 3, 6, 14, 4, 12], [27, 5, 15, 26, 8, 24], [9, 20, 10, 18, 22, 25], [19, 29, 17, 16, 13, 28], [1, 7, 11, 21, 23, 0]]\n",
            "Gasto total:  29\n"
          ]
        }
      ]
    },
    {
      "cell_type": "markdown",
      "source": [
        "El resultado obtenido representa la evolución del algoritmo genético a lo largo de 40 generaciones. Cada fila de la tabla representa una generación del algoritmo:\n",
        "\n",
        "- gen: La generación actual del algoritmo.\n",
        "- nevals: El número de individuos que fueron evaluados en esta generación.\n",
        "- Avg: El valor medio de la función de fitness en la población actual.\n",
        "- Std: La desviación estándar de la función de fitness en la población actual.\n",
        "- Min: El valor mínimo de la función de fitness en la población actual.\n",
        "- Max: El valor máximo de la función de fitness en la población actual.\n",
        "\n",
        "A medida que el algoritmo evoluciona, se puede ver que el valor medio (Avg) y el valor mínimo (Min) de la función de fitness disminuyen, lo que indica que el algoritmo está encontrando soluciones cada vez mejores.\n",
        "\n",
        "Se puede ver como el gasto total (29) es considerablemente inferior al los dos gastos obtenidos anteriormente. Esto se debe a que la implementación del algoritmo genético mendiante esta librería es mucho más eficiente que las implementaciones que se han realizado con python nativo.\n",
        "\n"
      ],
      "metadata": {
        "id": "K__ezJaqoQUz"
      }
    }
  ]
}